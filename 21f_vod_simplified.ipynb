{
 "cells": [
  {
   "cell_type": "code",
   "execution_count": null,
   "metadata": {},
   "outputs": [],
   "source": []
  },
  {
   "cell_type": "code",
   "execution_count": 99,
   "metadata": {
    "colab": {},
    "colab_type": "code",
    "id": "1rRo8oNqZ-Rj"
   },
   "outputs": [
    {
     "name": "stdout",
     "output_type": "stream",
     "text": [
      "1.13.1\n"
     ]
    }
   ],
   "source": [
    "\n",
    "from __future__ import absolute_import, division, print_function\n",
    "\n",
    "import pathlib\n",
    "import numpy as np\n",
    "\n",
    "import matplotlib.pyplot as plt\n",
    "import pandas as pd\n",
    "import seaborn as sns\n",
    "\n",
    "import tensorflow as tf\n",
    "from tensorflow import keras\n",
    "from tensorflow.keras import layers\n",
    "\n",
    "print(tf.__version__)"
   ]
  },
  {
   "cell_type": "code",
   "execution_count": 100,
   "metadata": {},
   "outputs": [
    {
     "name": "stdout",
     "output_type": "stream",
     "text": [
      "21f_1.ipynb                      21f_smpl_limited.ipynb\n",
      "21f_3_sets.csv                   21f_vod_simplified.ipynb\n",
      "21f_data_phy_only_no_talent.csv  \u001b[0m\u001b[01;34msrc\u001b[0m/\n",
      "21f_est_simplified.ipynb         \u001b[01;34mtutorials\u001b[0m/\n",
      "21f_phy_simplified.ipynb\n"
     ]
    }
   ],
   "source": [
    "ls"
   ]
  },
  {
   "cell_type": "code",
   "execution_count": 120,
   "metadata": {},
   "outputs": [],
   "source": [
    "col_list=[ 'Box Office',\n",
    "           #'EST Date', \n",
    "           #'EST Date Week Num', \n",
    "           #'EST to TH',\n",
    "           #'EST W1 Units', \n",
    "           #'VOD Date',  \n",
    "           #'VOD Date Week Num', \n",
    "           'VOD to TH',\n",
    "           'VOD W1 Units', \n",
    "           #'Studio', \n",
    "           #'Rating', \n",
    "           #'TH Date Week Num', \n",
    "           #'Box Office', \n",
    "           'Franchise', \n",
    "           'Count of Awards',\n",
    "           ' Action',  \n",
    "           ' Adventure', \n",
    "           'Animation', \n",
    "           ' Biography', \n",
    "           ' Comedy', \n",
    "           ' Crime',\n",
    "           'Documentary', \n",
    "           ' Drama', \n",
    "           ' Family', \n",
    "           ' Fantasy', \n",
    "           ' History', \n",
    "           ' Horror',\n",
    "           ' Music', \n",
    "           ' Musical', \n",
    "           ' Mystery', \n",
    "           ' Romance', \n",
    "           ' Sci-Fi', \n",
    "           ' Short',\n",
    "           ' Sport',  \n",
    "           ' Thriller', \n",
    "           ' War'\n",
    "           ]"
   ]
  },
  {
   "cell_type": "code",
   "execution_count": 136,
   "metadata": {},
   "outputs": [
    {
     "data": {
      "text/html": [
       "<div>\n",
       "<style scoped>\n",
       "    .dataframe tbody tr th:only-of-type {\n",
       "        vertical-align: middle;\n",
       "    }\n",
       "\n",
       "    .dataframe tbody tr th {\n",
       "        vertical-align: top;\n",
       "    }\n",
       "\n",
       "    .dataframe thead th {\n",
       "        text-align: right;\n",
       "    }\n",
       "</style>\n",
       "<table border=\"1\" class=\"dataframe\">\n",
       "  <thead>\n",
       "    <tr style=\"text-align: right;\">\n",
       "      <th></th>\n",
       "      <th>Title</th>\n",
       "      <th>Physical Date</th>\n",
       "      <th>PHY Date Week Num</th>\n",
       "      <th>PHY to TH</th>\n",
       "      <th>Physical W1 Units</th>\n",
       "      <th>EST Date</th>\n",
       "      <th>EST Date Week Num</th>\n",
       "      <th>EST to TH</th>\n",
       "      <th>EST W1 Units</th>\n",
       "      <th>VOD Date</th>\n",
       "      <th>...</th>\n",
       "      <th>Horror</th>\n",
       "      <th>Music</th>\n",
       "      <th>Musical</th>\n",
       "      <th>Mystery</th>\n",
       "      <th>Romance</th>\n",
       "      <th>Sci-Fi</th>\n",
       "      <th>Short</th>\n",
       "      <th>Sport</th>\n",
       "      <th>Thriller</th>\n",
       "      <th>War</th>\n",
       "    </tr>\n",
       "  </thead>\n",
       "  <tbody>\n",
       "    <tr>\n",
       "      <th>714</th>\n",
       "      <td>YOUNG MESSIAH</td>\n",
       "      <td>6/14/2016</td>\n",
       "      <td>25</td>\n",
       "      <td>95</td>\n",
       "      <td>17816</td>\n",
       "      <td>5/24/2016</td>\n",
       "      <td>22</td>\n",
       "      <td>74</td>\n",
       "      <td>4592</td>\n",
       "      <td>6/14/2016</td>\n",
       "      <td>...</td>\n",
       "      <td>0</td>\n",
       "      <td>0</td>\n",
       "      <td>0</td>\n",
       "      <td>0</td>\n",
       "      <td>0</td>\n",
       "      <td>0</td>\n",
       "      <td>0</td>\n",
       "      <td>0</td>\n",
       "      <td>0</td>\n",
       "      <td>0</td>\n",
       "    </tr>\n",
       "    <tr>\n",
       "      <th>715</th>\n",
       "      <td>YOUTH</td>\n",
       "      <td>3/1/2016</td>\n",
       "      <td>10</td>\n",
       "      <td>88</td>\n",
       "      <td>635</td>\n",
       "      <td>2/16/2016</td>\n",
       "      <td>8</td>\n",
       "      <td>74</td>\n",
       "      <td>4397</td>\n",
       "      <td>3/1/2016</td>\n",
       "      <td>...</td>\n",
       "      <td>0</td>\n",
       "      <td>1</td>\n",
       "      <td>0</td>\n",
       "      <td>0</td>\n",
       "      <td>1</td>\n",
       "      <td>0</td>\n",
       "      <td>0</td>\n",
       "      <td>0</td>\n",
       "      <td>0</td>\n",
       "      <td>0</td>\n",
       "    </tr>\n",
       "    <tr>\n",
       "      <th>716</th>\n",
       "      <td>ZOOKEEPERS WIFE</td>\n",
       "      <td>7/4/2017</td>\n",
       "      <td>27</td>\n",
       "      <td>88</td>\n",
       "      <td>39313</td>\n",
       "      <td>6/20/2017</td>\n",
       "      <td>25</td>\n",
       "      <td>74</td>\n",
       "      <td>24601</td>\n",
       "      <td>7/4/2017</td>\n",
       "      <td>...</td>\n",
       "      <td>0</td>\n",
       "      <td>0</td>\n",
       "      <td>0</td>\n",
       "      <td>0</td>\n",
       "      <td>0</td>\n",
       "      <td>0</td>\n",
       "      <td>0</td>\n",
       "      <td>0</td>\n",
       "      <td>0</td>\n",
       "      <td>1</td>\n",
       "    </tr>\n",
       "    <tr>\n",
       "      <th>717</th>\n",
       "      <td>ZOOLANDER 2</td>\n",
       "      <td>5/24/2016</td>\n",
       "      <td>22</td>\n",
       "      <td>102</td>\n",
       "      <td>45106</td>\n",
       "      <td>5/3/2016</td>\n",
       "      <td>19</td>\n",
       "      <td>81</td>\n",
       "      <td>57828</td>\n",
       "      <td>5/24/2016</td>\n",
       "      <td>...</td>\n",
       "      <td>0</td>\n",
       "      <td>0</td>\n",
       "      <td>0</td>\n",
       "      <td>0</td>\n",
       "      <td>0</td>\n",
       "      <td>0</td>\n",
       "      <td>0</td>\n",
       "      <td>0</td>\n",
       "      <td>0</td>\n",
       "      <td>0</td>\n",
       "    </tr>\n",
       "    <tr>\n",
       "      <th>718</th>\n",
       "      <td>ZOOTOPIA</td>\n",
       "      <td>6/7/2016</td>\n",
       "      <td>24</td>\n",
       "      <td>95</td>\n",
       "      <td>1601855</td>\n",
       "      <td>6/7/2016</td>\n",
       "      <td>24</td>\n",
       "      <td>95</td>\n",
       "      <td>351712</td>\n",
       "      <td>6/7/2016</td>\n",
       "      <td>...</td>\n",
       "      <td>0</td>\n",
       "      <td>0</td>\n",
       "      <td>0</td>\n",
       "      <td>1</td>\n",
       "      <td>0</td>\n",
       "      <td>0</td>\n",
       "      <td>0</td>\n",
       "      <td>0</td>\n",
       "      <td>0</td>\n",
       "      <td>0</td>\n",
       "    </tr>\n",
       "  </tbody>\n",
       "</table>\n",
       "<p>5 rows × 41 columns</p>\n",
       "</div>"
      ],
      "text/plain": [
       "               Title Physical Date  PHY Date Week Num  PHY to TH  \\\n",
       "714    YOUNG MESSIAH     6/14/2016                 25         95   \n",
       "715            YOUTH      3/1/2016                 10         88   \n",
       "716  ZOOKEEPERS WIFE      7/4/2017                 27         88   \n",
       "717      ZOOLANDER 2     5/24/2016                 22        102   \n",
       "718         ZOOTOPIA      6/7/2016                 24         95   \n",
       "\n",
       "     Physical W1 Units   EST Date  EST Date Week Num  EST to TH  EST W1 Units  \\\n",
       "714              17816  5/24/2016                 22         74          4592   \n",
       "715                635  2/16/2016                  8         74          4397   \n",
       "716              39313  6/20/2017                 25         74         24601   \n",
       "717              45106   5/3/2016                 19         81         57828   \n",
       "718            1601855   6/7/2016                 24         95        351712   \n",
       "\n",
       "      VOD Date  ...   Horror   Music   Musical  Mystery  Romance  Sci-Fi  \\\n",
       "714  6/14/2016  ...        0       0         0        0        0       0   \n",
       "715   3/1/2016  ...        0       1         0        0        1       0   \n",
       "716   7/4/2017  ...        0       0         0        0        0       0   \n",
       "717  5/24/2016  ...        0       0         0        0        0       0   \n",
       "718   6/7/2016  ...        0       0         0        1        0       0   \n",
       "\n",
       "      Short   Sport   Thriller   War  \n",
       "714       0       0          0     0  \n",
       "715       0       0          0     0  \n",
       "716       0       0          0     1  \n",
       "717       0       0          0     0  \n",
       "718       0       0          0     0  \n",
       "\n",
       "[5 rows x 41 columns]"
      ]
     },
     "execution_count": 136,
     "metadata": {},
     "output_type": "execute_result"
    }
   ],
   "source": [
    "dataset = pd.read_csv(\"21f_3_sets.csv\")\n",
    "dataset.tail()"
   ]
  },
  {
   "cell_type": "code",
   "execution_count": 137,
   "metadata": {},
   "outputs": [],
   "source": [
    "dataset=dataset.loc[:, col_list]"
   ]
  },
  {
   "cell_type": "code",
   "execution_count": 138,
   "metadata": {},
   "outputs": [
    {
     "data": {
      "text/plain": [
       "Index(['Box Office', 'VOD to TH', 'VOD W1 Units', 'Franchise',\n",
       "       'Count of Awards', ' Action', ' Adventure', 'Animation', ' Biography',\n",
       "       ' Comedy', ' Crime', 'Documentary', ' Drama', ' Family', ' Fantasy',\n",
       "       ' History', ' Horror', ' Music', ' Musical', ' Mystery', ' Romance',\n",
       "       ' Sci-Fi', ' Short', ' Sport', ' Thriller', ' War'],\n",
       "      dtype='object')"
      ]
     },
     "execution_count": 138,
     "metadata": {},
     "output_type": "execute_result"
    }
   ],
   "source": [
    "dataset.columns"
   ]
  },
  {
   "cell_type": "code",
   "execution_count": 139,
   "metadata": {},
   "outputs": [
    {
     "data": {
      "text/plain": [
       "Box Office         0\n",
       "VOD to TH          0\n",
       "VOD W1 Units       0\n",
       "Franchise          0\n",
       "Count of Awards    0\n",
       " Action            0\n",
       " Adventure         0\n",
       "Animation          0\n",
       " Biography         0\n",
       " Comedy            0\n",
       " Crime             0\n",
       "Documentary        0\n",
       " Drama             0\n",
       " Family            0\n",
       " Fantasy           0\n",
       " History           0\n",
       " Horror            0\n",
       " Music             0\n",
       " Musical           0\n",
       " Mystery           0\n",
       " Romance           0\n",
       " Sci-Fi            0\n",
       " Short             0\n",
       " Sport             0\n",
       " Thriller          0\n",
       " War               0\n",
       "dtype: int64"
      ]
     },
     "execution_count": 139,
     "metadata": {},
     "output_type": "execute_result"
    }
   ],
   "source": [
    "dataset.isna().sum()"
   ]
  },
  {
   "cell_type": "code",
   "execution_count": null,
   "metadata": {},
   "outputs": [],
   "source": []
  },
  {
   "cell_type": "code",
   "execution_count": 140,
   "metadata": {
    "colab": {},
    "colab_type": "code",
    "id": "qn-IGhUE7_1H"
   },
   "outputs": [],
   "source": [
    "train_dataset = dataset.sample(frac=0.8,random_state=0)\n",
    "test_dataset = dataset.drop(train_dataset.index)"
   ]
  },
  {
   "cell_type": "code",
   "execution_count": 141,
   "metadata": {
    "colab": {},
    "colab_type": "code",
    "id": "oRKO_x8gWKv-"
   },
   "outputs": [
    {
     "data": {
      "text/plain": [
       "<seaborn.axisgrid.PairGrid at 0x7faeff1899e8>"
      ]
     },
     "execution_count": 141,
     "metadata": {},
     "output_type": "execute_result"
    },
    {
     "data": {
      "image/png": "[encoded data removed]",
      "text/plain": [
       "<Figure size 720x720 with 20 Axes>"
      ]
     },
     "metadata": {},
     "output_type": "display_data"
    }
   ],
   "source": [
    "sns.pairplot(train_dataset[[\"VOD W1 Units\", \"Box Office\", \"VOD to TH\", \"Franchise\"]], diag_kind=\"kde\" )"
   ]
  },
  {
   "cell_type": "code",
   "execution_count": 142,
   "metadata": {},
   "outputs": [],
   "source": [
    "dataset['box_vs_vodtoth_lag']=dataset['Box Office']/dataset['VOD to TH']"
   ]
  },
  {
   "cell_type": "code",
   "execution_count": null,
   "metadata": {},
   "outputs": [],
   "source": []
  },
  {
   "cell_type": "code",
   "execution_count": 143,
   "metadata": {
    "colab": {},
    "colab_type": "code",
    "id": "yi2FzC3T21jR"
   },
   "outputs": [
    {
     "data": {
      "text/html": [
       "<div>\n",
       "<style scoped>\n",
       "    .dataframe tbody tr th:only-of-type {\n",
       "        vertical-align: middle;\n",
       "    }\n",
       "\n",
       "    .dataframe tbody tr th {\n",
       "        vertical-align: top;\n",
       "    }\n",
       "\n",
       "    .dataframe thead th {\n",
       "        text-align: right;\n",
       "    }\n",
       "</style>\n",
       "<table border=\"1\" class=\"dataframe\">\n",
       "  <thead>\n",
       "    <tr style=\"text-align: right;\">\n",
       "      <th></th>\n",
       "      <th>count</th>\n",
       "      <th>mean</th>\n",
       "      <th>std</th>\n",
       "      <th>min</th>\n",
       "      <th>25%</th>\n",
       "      <th>50%</th>\n",
       "      <th>75%</th>\n",
       "      <th>max</th>\n",
       "    </tr>\n",
       "  </thead>\n",
       "  <tbody>\n",
       "    <tr>\n",
       "      <th>Box Office</th>\n",
       "      <td>575.0</td>\n",
       "      <td>6.342733e+07</td>\n",
       "      <td>9.081473e+07</td>\n",
       "      <td>2002036.0</td>\n",
       "      <td>10443536.5</td>\n",
       "      <td>32492859.0</td>\n",
       "      <td>73734187.0</td>\n",
       "      <td>665642897.0</td>\n",
       "    </tr>\n",
       "    <tr>\n",
       "      <th>VOD to TH</th>\n",
       "      <td>575.0</td>\n",
       "      <td>1.055826e+02</td>\n",
       "      <td>3.272549e+01</td>\n",
       "      <td>46.0</td>\n",
       "      <td>88.0</td>\n",
       "      <td>97.0</td>\n",
       "      <td>116.0</td>\n",
       "      <td>529.0</td>\n",
       "    </tr>\n",
       "    <tr>\n",
       "      <th>Franchise</th>\n",
       "      <td>575.0</td>\n",
       "      <td>2.452174e-01</td>\n",
       "      <td>4.305906e-01</td>\n",
       "      <td>0.0</td>\n",
       "      <td>0.0</td>\n",
       "      <td>0.0</td>\n",
       "      <td>0.0</td>\n",
       "      <td>1.0</td>\n",
       "    </tr>\n",
       "    <tr>\n",
       "      <th>Count of Awards</th>\n",
       "      <td>575.0</td>\n",
       "      <td>3.043478e-01</td>\n",
       "      <td>1.660013e+00</td>\n",
       "      <td>0.0</td>\n",
       "      <td>0.0</td>\n",
       "      <td>0.0</td>\n",
       "      <td>0.0</td>\n",
       "      <td>24.0</td>\n",
       "    </tr>\n",
       "    <tr>\n",
       "      <th>Action</th>\n",
       "      <td>575.0</td>\n",
       "      <td>3.113043e-01</td>\n",
       "      <td>4.634301e-01</td>\n",
       "      <td>0.0</td>\n",
       "      <td>0.0</td>\n",
       "      <td>0.0</td>\n",
       "      <td>1.0</td>\n",
       "      <td>1.0</td>\n",
       "    </tr>\n",
       "    <tr>\n",
       "      <th>Adventure</th>\n",
       "      <td>575.0</td>\n",
       "      <td>2.695652e-01</td>\n",
       "      <td>4.441203e-01</td>\n",
       "      <td>0.0</td>\n",
       "      <td>0.0</td>\n",
       "      <td>0.0</td>\n",
       "      <td>1.0</td>\n",
       "      <td>1.0</td>\n",
       "    </tr>\n",
       "    <tr>\n",
       "      <th>Animation</th>\n",
       "      <td>575.0</td>\n",
       "      <td>8.521739e-02</td>\n",
       "      <td>2.794480e-01</td>\n",
       "      <td>0.0</td>\n",
       "      <td>0.0</td>\n",
       "      <td>0.0</td>\n",
       "      <td>0.0</td>\n",
       "      <td>1.0</td>\n",
       "    </tr>\n",
       "    <tr>\n",
       "      <th>Biography</th>\n",
       "      <td>575.0</td>\n",
       "      <td>1.373913e-01</td>\n",
       "      <td>3.445597e-01</td>\n",
       "      <td>0.0</td>\n",
       "      <td>0.0</td>\n",
       "      <td>0.0</td>\n",
       "      <td>0.0</td>\n",
       "      <td>1.0</td>\n",
       "    </tr>\n",
       "    <tr>\n",
       "      <th>Comedy</th>\n",
       "      <td>575.0</td>\n",
       "      <td>3.773913e-01</td>\n",
       "      <td>4.851561e-01</td>\n",
       "      <td>0.0</td>\n",
       "      <td>0.0</td>\n",
       "      <td>0.0</td>\n",
       "      <td>1.0</td>\n",
       "      <td>1.0</td>\n",
       "    </tr>\n",
       "    <tr>\n",
       "      <th>Crime</th>\n",
       "      <td>575.0</td>\n",
       "      <td>1.686957e-01</td>\n",
       "      <td>3.748089e-01</td>\n",
       "      <td>0.0</td>\n",
       "      <td>0.0</td>\n",
       "      <td>0.0</td>\n",
       "      <td>0.0</td>\n",
       "      <td>1.0</td>\n",
       "    </tr>\n",
       "    <tr>\n",
       "      <th>Documentary</th>\n",
       "      <td>575.0</td>\n",
       "      <td>1.565217e-02</td>\n",
       "      <td>1.242338e-01</td>\n",
       "      <td>0.0</td>\n",
       "      <td>0.0</td>\n",
       "      <td>0.0</td>\n",
       "      <td>0.0</td>\n",
       "      <td>1.0</td>\n",
       "    </tr>\n",
       "    <tr>\n",
       "      <th>Drama</th>\n",
       "      <td>575.0</td>\n",
       "      <td>5.252174e-01</td>\n",
       "      <td>4.997985e-01</td>\n",
       "      <td>0.0</td>\n",
       "      <td>0.0</td>\n",
       "      <td>1.0</td>\n",
       "      <td>1.0</td>\n",
       "      <td>1.0</td>\n",
       "    </tr>\n",
       "    <tr>\n",
       "      <th>Family</th>\n",
       "      <td>575.0</td>\n",
       "      <td>1.321739e-01</td>\n",
       "      <td>3.389746e-01</td>\n",
       "      <td>0.0</td>\n",
       "      <td>0.0</td>\n",
       "      <td>0.0</td>\n",
       "      <td>0.0</td>\n",
       "      <td>1.0</td>\n",
       "    </tr>\n",
       "    <tr>\n",
       "      <th>Fantasy</th>\n",
       "      <td>575.0</td>\n",
       "      <td>1.565217e-01</td>\n",
       "      <td>3.636656e-01</td>\n",
       "      <td>0.0</td>\n",
       "      <td>0.0</td>\n",
       "      <td>0.0</td>\n",
       "      <td>0.0</td>\n",
       "      <td>1.0</td>\n",
       "    </tr>\n",
       "    <tr>\n",
       "      <th>History</th>\n",
       "      <td>575.0</td>\n",
       "      <td>5.913043e-02</td>\n",
       "      <td>2.360740e-01</td>\n",
       "      <td>0.0</td>\n",
       "      <td>0.0</td>\n",
       "      <td>0.0</td>\n",
       "      <td>0.0</td>\n",
       "      <td>1.0</td>\n",
       "    </tr>\n",
       "    <tr>\n",
       "      <th>Horror</th>\n",
       "      <td>575.0</td>\n",
       "      <td>1.130435e-01</td>\n",
       "      <td>3.169216e-01</td>\n",
       "      <td>0.0</td>\n",
       "      <td>0.0</td>\n",
       "      <td>0.0</td>\n",
       "      <td>0.0</td>\n",
       "      <td>1.0</td>\n",
       "    </tr>\n",
       "    <tr>\n",
       "      <th>Music</th>\n",
       "      <td>575.0</td>\n",
       "      <td>6.608696e-02</td>\n",
       "      <td>2.486503e-01</td>\n",
       "      <td>0.0</td>\n",
       "      <td>0.0</td>\n",
       "      <td>0.0</td>\n",
       "      <td>0.0</td>\n",
       "      <td>1.0</td>\n",
       "    </tr>\n",
       "    <tr>\n",
       "      <th>Musical</th>\n",
       "      <td>575.0</td>\n",
       "      <td>2.782609e-02</td>\n",
       "      <td>1.646175e-01</td>\n",
       "      <td>0.0</td>\n",
       "      <td>0.0</td>\n",
       "      <td>0.0</td>\n",
       "      <td>0.0</td>\n",
       "      <td>1.0</td>\n",
       "    </tr>\n",
       "    <tr>\n",
       "      <th>Mystery</th>\n",
       "      <td>575.0</td>\n",
       "      <td>1.373913e-01</td>\n",
       "      <td>3.445597e-01</td>\n",
       "      <td>0.0</td>\n",
       "      <td>0.0</td>\n",
       "      <td>0.0</td>\n",
       "      <td>0.0</td>\n",
       "      <td>1.0</td>\n",
       "    </tr>\n",
       "    <tr>\n",
       "      <th>Romance</th>\n",
       "      <td>575.0</td>\n",
       "      <td>1.600000e-01</td>\n",
       "      <td>3.669253e-01</td>\n",
       "      <td>0.0</td>\n",
       "      <td>0.0</td>\n",
       "      <td>0.0</td>\n",
       "      <td>0.0</td>\n",
       "      <td>1.0</td>\n",
       "    </tr>\n",
       "    <tr>\n",
       "      <th>Sci-Fi</th>\n",
       "      <td>575.0</td>\n",
       "      <td>1.530435e-01</td>\n",
       "      <td>3.603429e-01</td>\n",
       "      <td>0.0</td>\n",
       "      <td>0.0</td>\n",
       "      <td>0.0</td>\n",
       "      <td>0.0</td>\n",
       "      <td>1.0</td>\n",
       "    </tr>\n",
       "    <tr>\n",
       "      <th>Short</th>\n",
       "      <td>575.0</td>\n",
       "      <td>1.739130e-03</td>\n",
       "      <td>4.170288e-02</td>\n",
       "      <td>0.0</td>\n",
       "      <td>0.0</td>\n",
       "      <td>0.0</td>\n",
       "      <td>0.0</td>\n",
       "      <td>1.0</td>\n",
       "    </tr>\n",
       "    <tr>\n",
       "      <th>Sport</th>\n",
       "      <td>575.0</td>\n",
       "      <td>2.956522e-02</td>\n",
       "      <td>1.695320e-01</td>\n",
       "      <td>0.0</td>\n",
       "      <td>0.0</td>\n",
       "      <td>0.0</td>\n",
       "      <td>0.0</td>\n",
       "      <td>1.0</td>\n",
       "    </tr>\n",
       "    <tr>\n",
       "      <th>Thriller</th>\n",
       "      <td>575.0</td>\n",
       "      <td>3.078261e-01</td>\n",
       "      <td>4.619961e-01</td>\n",
       "      <td>0.0</td>\n",
       "      <td>0.0</td>\n",
       "      <td>0.0</td>\n",
       "      <td>1.0</td>\n",
       "      <td>1.0</td>\n",
       "    </tr>\n",
       "    <tr>\n",
       "      <th>War</th>\n",
       "      <td>575.0</td>\n",
       "      <td>4.173913e-02</td>\n",
       "      <td>2.001666e-01</td>\n",
       "      <td>0.0</td>\n",
       "      <td>0.0</td>\n",
       "      <td>0.0</td>\n",
       "      <td>0.0</td>\n",
       "      <td>1.0</td>\n",
       "    </tr>\n",
       "  </tbody>\n",
       "</table>\n",
       "</div>"
      ],
      "text/plain": [
       "                 count          mean           std        min         25%  \\\n",
       "Box Office       575.0  6.342733e+07  9.081473e+07  2002036.0  10443536.5   \n",
       "VOD to TH        575.0  1.055826e+02  3.272549e+01       46.0        88.0   \n",
       "Franchise        575.0  2.452174e-01  4.305906e-01        0.0         0.0   \n",
       "Count of Awards  575.0  3.043478e-01  1.660013e+00        0.0         0.0   \n",
       " Action          575.0  3.113043e-01  4.634301e-01        0.0         0.0   \n",
       " Adventure       575.0  2.695652e-01  4.441203e-01        0.0         0.0   \n",
       "Animation        575.0  8.521739e-02  2.794480e-01        0.0         0.0   \n",
       " Biography       575.0  1.373913e-01  3.445597e-01        0.0         0.0   \n",
       " Comedy          575.0  3.773913e-01  4.851561e-01        0.0         0.0   \n",
       " Crime           575.0  1.686957e-01  3.748089e-01        0.0         0.0   \n",
       "Documentary      575.0  1.565217e-02  1.242338e-01        0.0         0.0   \n",
       " Drama           575.0  5.252174e-01  4.997985e-01        0.0         0.0   \n",
       " Family          575.0  1.321739e-01  3.389746e-01        0.0         0.0   \n",
       " Fantasy         575.0  1.565217e-01  3.636656e-01        0.0         0.0   \n",
       " History         575.0  5.913043e-02  2.360740e-01        0.0         0.0   \n",
       " Horror          575.0  1.130435e-01  3.169216e-01        0.0         0.0   \n",
       " Music           575.0  6.608696e-02  2.486503e-01        0.0         0.0   \n",
       " Musical         575.0  2.782609e-02  1.646175e-01        0.0         0.0   \n",
       " Mystery         575.0  1.373913e-01  3.445597e-01        0.0         0.0   \n",
       " Romance         575.0  1.600000e-01  3.669253e-01        0.0         0.0   \n",
       " Sci-Fi          575.0  1.530435e-01  3.603429e-01        0.0         0.0   \n",
       " Short           575.0  1.739130e-03  4.170288e-02        0.0         0.0   \n",
       " Sport           575.0  2.956522e-02  1.695320e-01        0.0         0.0   \n",
       " Thriller        575.0  3.078261e-01  4.619961e-01        0.0         0.0   \n",
       " War             575.0  4.173913e-02  2.001666e-01        0.0         0.0   \n",
       "\n",
       "                        50%         75%          max  \n",
       "Box Office       32492859.0  73734187.0  665642897.0  \n",
       "VOD to TH              97.0       116.0        529.0  \n",
       "Franchise               0.0         0.0          1.0  \n",
       "Count of Awards         0.0         0.0         24.0  \n",
       " Action                 0.0         1.0          1.0  \n",
       " Adventure              0.0         1.0          1.0  \n",
       "Animation               0.0         0.0          1.0  \n",
       " Biography              0.0         0.0          1.0  \n",
       " Comedy                 0.0         1.0          1.0  \n",
       " Crime                  0.0         0.0          1.0  \n",
       "Documentary             0.0         0.0          1.0  \n",
       " Drama                  1.0         1.0          1.0  \n",
       " Family                 0.0         0.0          1.0  \n",
       " Fantasy                0.0         0.0          1.0  \n",
       " History                0.0         0.0          1.0  \n",
       " Horror                 0.0         0.0          1.0  \n",
       " Music                  0.0         0.0          1.0  \n",
       " Musical                0.0         0.0          1.0  \n",
       " Mystery                0.0         0.0          1.0  \n",
       " Romance                0.0         0.0          1.0  \n",
       " Sci-Fi                 0.0         0.0          1.0  \n",
       " Short                  0.0         0.0          1.0  \n",
       " Sport                  0.0         0.0          1.0  \n",
       " Thriller               0.0         1.0          1.0  \n",
       " War                    0.0         0.0          1.0  "
      ]
     },
     "execution_count": 143,
     "metadata": {},
     "output_type": "execute_result"
    }
   ],
   "source": [
    "train_stats = train_dataset.describe()\n",
    "train_stats.pop(\"VOD W1 Units\")\n",
    "train_stats = train_stats.transpose()\n",
    "train_stats"
   ]
  },
  {
   "cell_type": "code",
   "execution_count": null,
   "metadata": {},
   "outputs": [],
   "source": []
  },
  {
   "cell_type": "code",
   "execution_count": 144,
   "metadata": {
    "colab": {},
    "colab_type": "code",
    "id": "t2sluJdCW7jN"
   },
   "outputs": [],
   "source": [
    "train_labels = train_dataset.pop('VOD W1 Units')\n",
    "test_labels = test_dataset.pop('VOD W1 Units')"
   ]
  },
  {
   "cell_type": "code",
   "execution_count": null,
   "metadata": {},
   "outputs": [],
   "source": []
  },
  {
   "cell_type": "code",
   "execution_count": 145,
   "metadata": {
    "colab": {},
    "colab_type": "code",
    "id": "JlC5ooJrgjQF"
   },
   "outputs": [],
   "source": [
    "def norm(x):\n",
    "  return (x - train_stats['mean']) / train_stats['std']\n",
    "normed_train_data = norm(train_dataset)\n",
    "normed_test_data = norm(test_dataset)"
   ]
  },
  {
   "cell_type": "code",
   "execution_count": 131,
   "metadata": {},
   "outputs": [
    {
     "data": {
      "text/plain": [
       "(575, 25)"
      ]
     },
     "execution_count": 131,
     "metadata": {},
     "output_type": "execute_result"
    }
   ],
   "source": [
    "normed_train_data.shape"
   ]
  },
  {
   "cell_type": "code",
   "execution_count": null,
   "metadata": {},
   "outputs": [],
   "source": []
  },
  {
   "cell_type": "code",
   "execution_count": 146,
   "metadata": {
    "colab": {},
    "colab_type": "code",
    "id": "c26juK7ZG8j-"
   },
   "outputs": [],
   "source": [
    "def build_model():\n",
    "  model = keras.Sequential([\n",
    "    layers.Dense(128, activation=tf.nn.relu, input_shape=[len(train_dataset.keys())]),\n",
    "    layers.Dense(128, activation=tf.nn.relu),\n",
    "    layers.Dense(1)\n",
    "  ])\n",
    "\n",
    "  optimizer = tf.keras.optimizers.RMSprop(0.001)\n",
    "\n",
    "  model.compile(loss='mse',\n",
    "                optimizer=optimizer,\n",
    "                metrics=['mae', 'mse'])\n",
    "  return model"
   ]
  },
  {
   "cell_type": "code",
   "execution_count": 147,
   "metadata": {},
   "outputs": [],
   "source": [
    "model=build_model()"
   ]
  },
  {
   "cell_type": "code",
   "execution_count": 148,
   "metadata": {},
   "outputs": [
    {
     "name": "stdout",
     "output_type": "stream",
     "text": [
      "_________________________________________________________________\n",
      "Layer (type)                 Output Shape              Param #   \n",
      "=================================================================\n",
      "dense_15 (Dense)             (None, 128)               3328      \n",
      "_________________________________________________________________\n",
      "dense_16 (Dense)             (None, 128)               16512     \n",
      "_________________________________________________________________\n",
      "dense_17 (Dense)             (None, 1)                 129       \n",
      "=================================================================\n",
      "Total params: 19,969\n",
      "Trainable params: 19,969\n",
      "Non-trainable params: 0\n",
      "_________________________________________________________________\n"
     ]
    }
   ],
   "source": [
    "\n",
    "model.summary()"
   ]
  },
  {
   "cell_type": "code",
   "execution_count": null,
   "metadata": {},
   "outputs": [],
   "source": []
  },
  {
   "cell_type": "code",
   "execution_count": 149,
   "metadata": {
    "colab": {},
    "colab_type": "code",
    "id": "-d-gBaVtGTSC"
   },
   "outputs": [
    {
     "data": {
      "text/plain": [
       "array([[ 0.5272941 ],\n",
       "       [ 0.39541546],\n",
       "       [ 0.45150855],\n",
       "       [ 0.7344612 ],\n",
       "       [ 0.01152223],\n",
       "       [-0.21078436],\n",
       "       [ 0.55967164],\n",
       "       [ 0.08086342],\n",
       "       [ 0.42643088],\n",
       "       [ 0.30915076]], dtype=float32)"
      ]
     },
     "execution_count": 149,
     "metadata": {},
     "output_type": "execute_result"
    }
   ],
   "source": [
    "example_batch = normed_train_data[:10]\n",
    "example_result = model.predict(example_batch)\n",
    "example_result"
   ]
  },
  {
   "cell_type": "code",
   "execution_count": 150,
   "metadata": {},
   "outputs": [],
   "source": [
    "# The patience parameter is the amount of epochs to check for improvement\n",
    "early_stop = keras.callbacks.EarlyStopping(monitor='val_loss', patience=10)"
   ]
  },
  {
   "cell_type": "code",
   "execution_count": 151,
   "metadata": {
    "colab": {},
    "colab_type": "code",
    "id": "sD7qHCmNIOY0"
   },
   "outputs": [
    {
     "name": "stdout",
     "output_type": "stream",
     "text": [
      "\n",
      "....................................................................................................\n",
      "....................................................................................................\n",
      "....................................................................................................\n",
      "....................................................................................................\n",
      "............................."
     ]
    }
   ],
   "source": [
    "# Display training progress by printing a single dot for each completed epoch\n",
    "class PrintDot(keras.callbacks.Callback):\n",
    "  def on_epoch_end(self, epoch, logs):\n",
    "    if epoch % 100 == 0: print('')\n",
    "    print('.', end='')\n",
    "\n",
    "EPOCHS = 1000\n",
    "\n",
    "history = model.fit(\n",
    "  normed_train_data, train_labels,\n",
    "  epochs=EPOCHS, validation_split = 0.2, verbose=0,\n",
    "  callbacks=[early_stop, PrintDot()])"
   ]
  },
  {
   "cell_type": "code",
   "execution_count": null,
   "metadata": {},
   "outputs": [],
   "source": []
  },
  {
   "cell_type": "code",
   "execution_count": 152,
   "metadata": {
    "colab": {},
    "colab_type": "code",
    "id": "4Xj91b-dymEy"
   },
   "outputs": [
    {
     "data": {
      "text/html": [
       "<div>\n",
       "<style scoped>\n",
       "    .dataframe tbody tr th:only-of-type {\n",
       "        vertical-align: middle;\n",
       "    }\n",
       "\n",
       "    .dataframe tbody tr th {\n",
       "        vertical-align: top;\n",
       "    }\n",
       "\n",
       "    .dataframe thead th {\n",
       "        text-align: right;\n",
       "    }\n",
       "</style>\n",
       "<table border=\"1\" class=\"dataframe\">\n",
       "  <thead>\n",
       "    <tr style=\"text-align: right;\">\n",
       "      <th></th>\n",
       "      <th>loss</th>\n",
       "      <th>mean_absolute_error</th>\n",
       "      <th>mean_squared_error</th>\n",
       "      <th>val_loss</th>\n",
       "      <th>val_mean_absolute_error</th>\n",
       "      <th>val_mean_squared_error</th>\n",
       "      <th>epoch</th>\n",
       "    </tr>\n",
       "  </thead>\n",
       "  <tbody>\n",
       "    <tr>\n",
       "      <th>424</th>\n",
       "      <td>6.387369e+09</td>\n",
       "      <td>52884.992188</td>\n",
       "      <td>6.387369e+09</td>\n",
       "      <td>4.642060e+09</td>\n",
       "      <td>53916.488281</td>\n",
       "      <td>4.642060e+09</td>\n",
       "      <td>424</td>\n",
       "    </tr>\n",
       "    <tr>\n",
       "      <th>425</th>\n",
       "      <td>6.379953e+09</td>\n",
       "      <td>52890.378906</td>\n",
       "      <td>6.379952e+09</td>\n",
       "      <td>4.642120e+09</td>\n",
       "      <td>53917.531250</td>\n",
       "      <td>4.642120e+09</td>\n",
       "      <td>425</td>\n",
       "    </tr>\n",
       "    <tr>\n",
       "      <th>426</th>\n",
       "      <td>6.385873e+09</td>\n",
       "      <td>52891.582031</td>\n",
       "      <td>6.385873e+09</td>\n",
       "      <td>4.644470e+09</td>\n",
       "      <td>53878.871094</td>\n",
       "      <td>4.644470e+09</td>\n",
       "      <td>426</td>\n",
       "    </tr>\n",
       "    <tr>\n",
       "      <th>427</th>\n",
       "      <td>6.380336e+09</td>\n",
       "      <td>52886.226562</td>\n",
       "      <td>6.380336e+09</td>\n",
       "      <td>4.641260e+09</td>\n",
       "      <td>53857.195312</td>\n",
       "      <td>4.641260e+09</td>\n",
       "      <td>427</td>\n",
       "    </tr>\n",
       "    <tr>\n",
       "      <th>428</th>\n",
       "      <td>6.375893e+09</td>\n",
       "      <td>52914.324219</td>\n",
       "      <td>6.375893e+09</td>\n",
       "      <td>4.643419e+09</td>\n",
       "      <td>53849.652344</td>\n",
       "      <td>4.643420e+09</td>\n",
       "      <td>428</td>\n",
       "    </tr>\n",
       "  </tbody>\n",
       "</table>\n",
       "</div>"
      ],
      "text/plain": [
       "             loss  mean_absolute_error  mean_squared_error      val_loss  \\\n",
       "424  6.387369e+09         52884.992188        6.387369e+09  4.642060e+09   \n",
       "425  6.379953e+09         52890.378906        6.379952e+09  4.642120e+09   \n",
       "426  6.385873e+09         52891.582031        6.385873e+09  4.644470e+09   \n",
       "427  6.380336e+09         52886.226562        6.380336e+09  4.641260e+09   \n",
       "428  6.375893e+09         52914.324219        6.375893e+09  4.643419e+09   \n",
       "\n",
       "     val_mean_absolute_error  val_mean_squared_error  epoch  \n",
       "424             53916.488281            4.642060e+09    424  \n",
       "425             53917.531250            4.642120e+09    425  \n",
       "426             53878.871094            4.644470e+09    426  \n",
       "427             53857.195312            4.641260e+09    427  \n",
       "428             53849.652344            4.643420e+09    428  "
      ]
     },
     "execution_count": 152,
     "metadata": {},
     "output_type": "execute_result"
    }
   ],
   "source": [
    "hist = pd.DataFrame(history.history)\n",
    "hist['epoch'] = history.epoch\n",
    "hist.tail()"
   ]
  },
  {
   "cell_type": "code",
   "execution_count": null,
   "metadata": {},
   "outputs": [],
   "source": []
  },
  {
   "cell_type": "code",
   "execution_count": 153,
   "metadata": {
    "colab": {},
    "colab_type": "code",
    "id": "B6XriGbVPh2t"
   },
   "outputs": [
    {
     "data": {
      "image/png": "[encoded data removed]",
      "text/plain": [
       "<Figure size 432x288 with 1 Axes>"
      ]
     },
     "metadata": {},
     "output_type": "display_data"
    },
    {
     "data": {
      "image/png": "[encoded data removed]",
      "text/plain": [
       "<Figure size 432x288 with 1 Axes>"
      ]
     },
     "metadata": {},
     "output_type": "display_data"
    }
   ],
   "source": [
    "def plot_history(history):\n",
    "  hist = pd.DataFrame(history.history)\n",
    "  hist['epoch'] = history.epoch\n",
    "  \n",
    "  plt.figure()\n",
    "  plt.xlabel('Epoch')\n",
    "  plt.ylabel('Mean Abs Error [VOD W1 Units]')\n",
    "  plt.plot(hist['epoch'], hist['mean_absolute_error'],\n",
    "           label='Train Error')\n",
    "  plt.plot(hist['epoch'], hist['val_mean_absolute_error'],\n",
    "           label = 'Val Error')\n",
    "  #plt.ylim([0,5])\n",
    "  plt.legend()\n",
    "  \n",
    "  plt.figure()\n",
    "  plt.xlabel('Epoch')\n",
    "  plt.ylabel('Mean Square Error [VOD W1 Units]')\n",
    "  plt.plot(hist['epoch'], hist['mean_squared_error'],\n",
    "           label='Train Error')\n",
    "  plt.plot(hist['epoch'], hist['val_mean_squared_error'],\n",
    "           label = 'Val Error')\n",
    "  #plt.ylim([0,20])\n",
    "  plt.legend()\n",
    "  plt.show()\n",
    "\n",
    "\n",
    "plot_history(history)"
   ]
  },
  {
   "cell_type": "code",
   "execution_count": null,
   "metadata": {},
   "outputs": [],
   "source": []
  },
  {
   "cell_type": "code",
   "execution_count": null,
   "metadata": {},
   "outputs": [],
   "source": []
  },
  {
   "cell_type": "code",
   "execution_count": 154,
   "metadata": {
    "colab": {},
    "colab_type": "code",
    "id": "jl_yNr5n1kms"
   },
   "outputs": [
    {
     "name": "stdout",
     "output_type": "stream",
     "text": [
      "Testing set Mean Abs Error: 62672.37 phy_w1_units\n"
     ]
    }
   ],
   "source": [
    "loss, mae, mse = model.evaluate(normed_test_data, test_labels, verbose=0)\n",
    "\n",
    "print(\"Testing set Mean Abs Error: {:5.2f} phy_w1_units\".format(mae))"
   ]
  },
  {
   "cell_type": "code",
   "execution_count": 155,
   "metadata": {},
   "outputs": [
    {
     "data": {
      "text/plain": [
       "0.49869282357427663"
      ]
     },
     "execution_count": 155,
     "metadata": {},
     "output_type": "execute_result"
    }
   ],
   "source": [
    "mae/train_labels.mean()"
   ]
  },
  {
   "cell_type": "code",
   "execution_count": null,
   "metadata": {},
   "outputs": [],
   "source": []
  },
  {
   "cell_type": "code",
   "execution_count": 96,
   "metadata": {
    "colab": {},
    "colab_type": "code",
    "id": "Xe7RXH3N3CWU"
   },
   "outputs": [
    {
     "data": {
      "image/png": "[encoded data removed]",
      "text/plain": [
       "<Figure size 432x288 with 1 Axes>"
      ]
     },
     "metadata": {},
     "output_type": "display_data"
    }
   ],
   "source": [
    "test_predictions = model.predict(normed_test_data).flatten()\n",
    "\n",
    "plt.scatter(test_labels, test_predictions)\n",
    "plt.xlabel('True Values [VOD W1 Units]')\n",
    "plt.ylabel('Predictions [VOD W1 Units]')\n",
    "#plt.axis('equal')\n",
    "#plt.axis('square')\n",
    "plt.xlim([0,plt.xlim()[1]])\n",
    "plt.ylim([0,plt.ylim()[1]])\n",
    "_ = plt.plot([-100, 100], [-100, 100])\n"
   ]
  },
  {
   "cell_type": "code",
   "execution_count": null,
   "metadata": {},
   "outputs": [],
   "source": []
  },
  {
   "cell_type": "code",
   "execution_count": 97,
   "metadata": {
    "colab": {},
    "colab_type": "code",
    "id": "f-OHX4DiXd8x"
   },
   "outputs": [
    {
     "data": {
      "image/png": "[encoded data removed]",
      "text/plain": [
       "<Figure size 432x288 with 1 Axes>"
      ]
     },
     "metadata": {},
     "output_type": "display_data"
    }
   ],
   "source": [
    "error = test_predictions - test_labels\n",
    "plt.hist(error, bins = 40)\n",
    "plt.xlabel(\"Prediction  Error [VOD W1 Units]\")\n",
    "_ = plt.ylabel(\"Count\")"
   ]
  },
  {
   "cell_type": "code",
   "execution_count": 1,
   "metadata": {},
   "outputs": [
    {
     "name": "stdout",
     "output_type": "stream",
     "text": [
      "21f_1.ipynb                      \u001b[0m\u001b[01;34msrc\u001b[0m/             Untitled2.ipynb\n",
      "21f_data_phy_only_no_talent.csv  \u001b[01;34mtutorials\u001b[0m/\n",
      "21f_simplified.ipynb             Untitled1.ipynb\n"
     ]
    }
   ],
   "source": [
    "ls"
   ]
  },
  {
   "cell_type": "code",
   "execution_count": 23,
   "metadata": {},
   "outputs": [
    {
     "ename": "NameError",
     "evalue": "name 'test_predictions' is not defined",
     "output_type": "error",
     "traceback": [
      "\u001b[0;31m---------------------------------------------------------------------------\u001b[0m",
      "\u001b[0;31mNameError\u001b[0m                                 Traceback (most recent call last)",
      "\u001b[0;32m<ipython-input-23-7c38bce20b15>\u001b[0m in \u001b[0;36m<module>\u001b[0;34m\u001b[0m\n\u001b[0;32m----> 1\u001b[0;31m \u001b[0mpd_predictions\u001b[0m\u001b[0;34m=\u001b[0m\u001b[0mpd\u001b[0m\u001b[0;34m.\u001b[0m\u001b[0mDataFrame\u001b[0m\u001b[0;34m(\u001b[0m\u001b[0mtest_predictions\u001b[0m\u001b[0;34m)\u001b[0m\u001b[0;34m\u001b[0m\u001b[0m\n\u001b[0m",
      "\u001b[0;31mNameError\u001b[0m: name 'test_predictions' is not defined"
     ]
    }
   ],
   "source": [
    "pd_predictions=pd.DataFrame(test_predictions)"
   ]
  },
  {
   "cell_type": "code",
   "execution_count": null,
   "metadata": {
    "colab": {},
    "colab_type": "code",
    "id": "fdMZuhUgzMZ4"
   },
   "outputs": [],
   "source": [
    "model = build_model()\n",
    "\n",
    "# The patience parameter is the amount of epochs to check for improvement\n",
    "early_stop = keras.callbacks.EarlyStopping(monitor='val_loss', patience=10)\n",
    "\n",
    "history = model.fit(normed_train_data, train_labels, epochs=EPOCHS,\n",
    "                    validation_split = 0.2, verbose=0, callbacks=[early_stop, PrintDot()])\n",
    "\n",
    "plot_history(history)"
   ]
  },
  {
   "cell_type": "code",
   "execution_count": 311,
   "metadata": {},
   "outputs": [
    {
     "name": "stdout",
     "output_type": "stream",
     "text": [
      "<class 'pandas.core.frame.DataFrame'>\n",
      "RangeIndex: 144 entries, 0 to 143\n",
      "Data columns (total 1 columns):\n",
      "0    144 non-null float32\n",
      "dtypes: float32(1)\n",
      "memory usage: 656.0 bytes\n"
     ]
    }
   ],
   "source": [
    "pd_predictions.info()"
   ]
  },
  {
   "cell_type": "code",
   "execution_count": 272,
   "metadata": {},
   "outputs": [],
   "source": [
    "pd_predictions=pd_predictions.astype(int)"
   ]
  },
  {
   "cell_type": "code",
   "execution_count": 273,
   "metadata": {},
   "outputs": [
    {
     "data": {
      "text/html": [
       "<div>\n",
       "<style scoped>\n",
       "    .dataframe tbody tr th:only-of-type {\n",
       "        vertical-align: middle;\n",
       "    }\n",
       "\n",
       "    .dataframe tbody tr th {\n",
       "        vertical-align: top;\n",
       "    }\n",
       "\n",
       "    .dataframe thead th {\n",
       "        text-align: right;\n",
       "    }\n",
       "</style>\n",
       "<table border=\"1\" class=\"dataframe\">\n",
       "  <thead>\n",
       "    <tr style=\"text-align: right;\">\n",
       "      <th></th>\n",
       "      <th>0</th>\n",
       "    </tr>\n",
       "  </thead>\n",
       "  <tbody>\n",
       "    <tr>\n",
       "      <th>0</th>\n",
       "      <td>13779</td>\n",
       "    </tr>\n",
       "  </tbody>\n",
       "</table>\n",
       "</div>"
      ],
      "text/plain": [
       "       0\n",
       "0  13779"
      ]
     },
     "execution_count": 273,
     "metadata": {},
     "output_type": "execute_result"
    }
   ],
   "source": [
    "pd_predictions.head(1)"
   ]
  },
  {
   "cell_type": "code",
   "execution_count": 274,
   "metadata": {},
   "outputs": [
    {
     "name": "stdout",
     "output_type": "stream",
     "text": [
      "(144,)\n"
     ]
    },
    {
     "data": {
      "text/plain": [
       "array([13779.403], dtype=float32)"
      ]
     },
     "execution_count": 274,
     "metadata": {},
     "output_type": "execute_result"
    }
   ],
   "source": [
    "print(test_predictions.shape)\n",
    "test_predictions[:1]"
   ]
  },
  {
   "cell_type": "code",
   "execution_count": 275,
   "metadata": {},
   "outputs": [
    {
     "name": "stdout",
     "output_type": "stream",
     "text": [
      "(144,)\n"
     ]
    },
    {
     "data": {
      "text/plain": [
       "9    6387\n",
       "Name: Physical W1 Units, dtype: int64"
      ]
     },
     "execution_count": 275,
     "metadata": {},
     "output_type": "execute_result"
    }
   ],
   "source": [
    "print(test_labels.shape)\n",
    "test_labels[:1]"
   ]
  },
  {
   "cell_type": "code",
   "execution_count": 276,
   "metadata": {},
   "outputs": [],
   "source": [
    "pd_test_labels=pd.DataFrame(test_labels)"
   ]
  },
  {
   "cell_type": "code",
   "execution_count": null,
   "metadata": {},
   "outputs": [],
   "source": [
    "pd_test_labels.head"
   ]
  },
  {
   "cell_type": "code",
   "execution_count": 241,
   "metadata": {},
   "outputs": [],
   "source": [
    "real_mistakes=np.subtract(pd_test_labels,pd_predictions)"
   ]
  },
  {
   "cell_type": "code",
   "execution_count": null,
   "metadata": {},
   "outputs": [],
   "source": [
    "print (real_mistakes.info())\n",
    "print(real_mistakes)"
   ]
  },
  {
   "cell_type": "code",
   "execution_count": 281,
   "metadata": {},
   "outputs": [],
   "source": [
    "abs_real_mistakes=np.absolute(real_mistakes)"
   ]
  },
  {
   "cell_type": "code",
   "execution_count": null,
   "metadata": {},
   "outputs": [],
   "source": []
  },
  {
   "cell_type": "code",
   "execution_count": null,
   "metadata": {},
   "outputs": [],
   "source": []
  },
  {
   "cell_type": "code",
   "execution_count": null,
   "metadata": {},
   "outputs": [],
   "source": []
  }
 ],
 "metadata": {
  "kernelspec": {
   "display_name": "Python 3",
   "language": "python",
   "name": "python3"
  },
  "language_info": {
   "codemirror_mode": {
    "name": "ipython",
    "version": 3
   },
   "file_extension": ".py",
   "mimetype": "text/x-python",
   "name": "python",
   "nbconvert_exporter": "python",
   "pygments_lexer": "ipython3",
   "version": "3.5.3"
  }
 },
 "nbformat": 4,
 "nbformat_minor": 2
}
